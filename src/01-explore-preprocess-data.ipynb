{
 "cells": [
  {
   "cell_type": "markdown",
   "metadata": {},
   "source": [
    "## MRCONSO Data Exploration and Preprocessing\n",
    "\n",
    "This notebook does some basic data exploration of the MRCONSO.RRF file downloaded from the NIH UMLS site.\n",
    "\n",
    "We then sample 5000 CUIs with multiple synonyms (>5) from MRCONSO, normalize the synonyms to remove punctuation and lowercase, then sample positive pairs (anchor, positive) for these CUIs, between 3 and 5 positive pairs for each CUI in the sampled set.\n",
    "\n",
    "### Imports"
   ]
  },
  {
   "cell_type": "code",
   "execution_count": 2,
   "metadata": {},
   "outputs": [],
   "source": [
    "import matplotlib.pyplot as plt\n",
    "import numpy as np\n",
    "import os\n",
    "import polars as pl\n",
    "import re\n",
    "\n",
    "%matplotlib inline"
   ]
  },
  {
   "cell_type": "markdown",
   "metadata": {},
   "source": [
    "### Read Data"
   ]
  },
  {
   "cell_type": "code",
   "execution_count": 3,
   "metadata": {},
   "outputs": [],
   "source": [
    "DATA_DIR = \"../data\"\n",
    "INPUT_FILE = os.path.join(DATA_DIR, 'MRCONSO.RRF')\n",
    "OUTPUT_FILE = os.path.join(DATA_DIR, \"positive_pairs.tsv\")"
   ]
  },
  {
   "cell_type": "code",
   "execution_count": 4,
   "metadata": {},
   "outputs": [
    {
     "data": {
      "text/html": [
       "<div><style>\n",
       ".dataframe > thead > tr > th,\n",
       ".dataframe > tbody > tr > td {\n",
       "  text-align: right;\n",
       "  white-space: pre-wrap;\n",
       "}\n",
       "</style>\n",
       "<small>shape: (5, 19)</small><table border=\"1\" class=\"dataframe\"><thead><tr><th>CUI</th><th>LAT</th><th>TS</th><th>LUI</th><th>STT</th><th>SUI</th><th>ISPREF</th><th>AUI</th><th>SAUI</th><th>SCUI</th><th>SDUI</th><th>SAB</th><th>TTY</th><th>CODE</th><th>STR</th><th>SRL</th><th>SUPPRESS</th><th>CVF</th><th>METAUI</th></tr><tr><td>str</td><td>str</td><td>str</td><td>str</td><td>str</td><td>str</td><td>str</td><td>str</td><td>i64</td><td>str</td><td>str</td><td>str</td><td>str</td><td>str</td><td>str</td><td>i64</td><td>str</td><td>i64</td><td>str</td></tr></thead><tbody><tr><td>&quot;C0000005&quot;</td><td>&quot;ENG&quot;</td><td>&quot;P&quot;</td><td>&quot;L0000005&quot;</td><td>&quot;PF&quot;</td><td>&quot;S0007492&quot;</td><td>&quot;Y&quot;</td><td>&quot;A26634265&quot;</td><td>null</td><td>&quot;M0019694&quot;</td><td>&quot;D012711&quot;</td><td>&quot;MSH&quot;</td><td>&quot;PEP&quot;</td><td>&quot;D012711&quot;</td><td>&quot;(131)I-Macroag…</td><td>0</td><td>&quot;N&quot;</td><td>256</td><td>null</td></tr><tr><td>&quot;C0000005&quot;</td><td>&quot;ENG&quot;</td><td>&quot;S&quot;</td><td>&quot;L0270109&quot;</td><td>&quot;PF&quot;</td><td>&quot;S0007491&quot;</td><td>&quot;Y&quot;</td><td>&quot;A26634266&quot;</td><td>null</td><td>&quot;M0019694&quot;</td><td>&quot;D012711&quot;</td><td>&quot;MSH&quot;</td><td>&quot;ET&quot;</td><td>&quot;D012711&quot;</td><td>&quot;(131)I-MAA&quot;</td><td>0</td><td>&quot;N&quot;</td><td>256</td><td>null</td></tr><tr><td>&quot;C0000005&quot;</td><td>&quot;FRE&quot;</td><td>&quot;P&quot;</td><td>&quot;L6220710&quot;</td><td>&quot;PF&quot;</td><td>&quot;S7133957&quot;</td><td>&quot;Y&quot;</td><td>&quot;A13433185&quot;</td><td>null</td><td>&quot;M0019694&quot;</td><td>&quot;D012711&quot;</td><td>&quot;MSHFRE&quot;</td><td>&quot;PEP&quot;</td><td>&quot;D012711&quot;</td><td>&quot;Macroagrégats …</td><td>3</td><td>&quot;N&quot;</td><td>null</td><td>null</td></tr><tr><td>&quot;C0000005&quot;</td><td>&quot;FRE&quot;</td><td>&quot;S&quot;</td><td>&quot;L6215648&quot;</td><td>&quot;PF&quot;</td><td>&quot;S7133916&quot;</td><td>&quot;Y&quot;</td><td>&quot;A27488794&quot;</td><td>null</td><td>&quot;M0019694&quot;</td><td>&quot;D012711&quot;</td><td>&quot;MSHFRE&quot;</td><td>&quot;ET&quot;</td><td>&quot;D012711&quot;</td><td>&quot;MAA-I 131&quot;</td><td>3</td><td>&quot;N&quot;</td><td>null</td><td>null</td></tr><tr><td>&quot;C0000005&quot;</td><td>&quot;FRE&quot;</td><td>&quot;S&quot;</td><td>&quot;L6215656&quot;</td><td>&quot;PF&quot;</td><td>&quot;S7133956&quot;</td><td>&quot;Y&quot;</td><td>&quot;A27614225&quot;</td><td>null</td><td>&quot;M0019694&quot;</td><td>&quot;D012711&quot;</td><td>&quot;MSHFRE&quot;</td><td>&quot;ET&quot;</td><td>&quot;D012711&quot;</td><td>&quot;Macroagrégats …</td><td>3</td><td>&quot;N&quot;</td><td>null</td><td>null</td></tr></tbody></table></div>"
      ],
      "text/plain": [
       "shape: (5, 19)\n",
       "┌──────────┬─────┬─────┬──────────┬───┬─────┬──────────┬──────┬────────┐\n",
       "│ CUI      ┆ LAT ┆ TS  ┆ LUI      ┆ … ┆ SRL ┆ SUPPRESS ┆ CVF  ┆ METAUI │\n",
       "│ ---      ┆ --- ┆ --- ┆ ---      ┆   ┆ --- ┆ ---      ┆ ---  ┆ ---    │\n",
       "│ str      ┆ str ┆ str ┆ str      ┆   ┆ i64 ┆ str      ┆ i64  ┆ str    │\n",
       "╞══════════╪═════╪═════╪══════════╪═══╪═════╪══════════╪══════╪════════╡\n",
       "│ C0000005 ┆ ENG ┆ P   ┆ L0000005 ┆ … ┆ 0   ┆ N        ┆ 256  ┆ null   │\n",
       "│ C0000005 ┆ ENG ┆ S   ┆ L0270109 ┆ … ┆ 0   ┆ N        ┆ 256  ┆ null   │\n",
       "│ C0000005 ┆ FRE ┆ P   ┆ L6220710 ┆ … ┆ 3   ┆ N        ┆ null ┆ null   │\n",
       "│ C0000005 ┆ FRE ┆ S   ┆ L6215648 ┆ … ┆ 3   ┆ N        ┆ null ┆ null   │\n",
       "│ C0000005 ┆ FRE ┆ S   ┆ L6215656 ┆ … ┆ 3   ┆ N        ┆ null ┆ null   │\n",
       "└──────────┴─────┴─────┴──────────┴───┴─────┴──────────┴──────┴────────┘"
      ]
     },
     "execution_count": 4,
     "metadata": {},
     "output_type": "execute_result"
    }
   ],
   "source": [
    "mrconso_columns = [\"CUI\", \"LAT\", \"TS\", \"LUI\", \"STT\", \"SUI\", \"ISPREF\",\n",
    "           \"AUI\", \"SAUI\", \"SCUI\", \"SDUI\", \"SAB\", \"TTY\", \"CODE\",\n",
    "           \"STR\", \"SRL\", \"SUPPRESS\", \"CVF\", \"METAUI\"]\n",
    "mrconso_df = pl.read_csv(INPUT_FILE,\n",
    "                         separator='|',\n",
    "                         quote_char=None,\n",
    "                         has_header=False,\n",
    "                         new_columns=mrconso_columns,\n",
    "                         encoding='utf8-lossy')\n",
    "mrconso_df.head()"
   ]
  },
  {
   "cell_type": "code",
   "execution_count": 5,
   "metadata": {},
   "outputs": [
    {
     "data": {
      "text/plain": [
       "13609918"
      ]
     },
     "execution_count": 5,
     "metadata": {},
     "output_type": "execute_result"
    }
   ],
   "source": [
    "len(mrconso_df)"
   ]
  },
  {
   "cell_type": "markdown",
   "metadata": {},
   "source": [
    "### Consider English synonyms for non-suppressed entities only"
   ]
  },
  {
   "cell_type": "code",
   "execution_count": 6,
   "metadata": {},
   "outputs": [
    {
     "data": {
      "text/html": [
       "<div><style>\n",
       ".dataframe > thead > tr > th,\n",
       ".dataframe > tbody > tr > td {\n",
       "  text-align: right;\n",
       "  white-space: pre-wrap;\n",
       "}\n",
       "</style>\n",
       "<small>shape: (5, 2)</small><table border=\"1\" class=\"dataframe\"><thead><tr><th>CUI</th><th>STR</th></tr><tr><td>str</td><td>str</td></tr></thead><tbody><tr><td>&quot;C0000005&quot;</td><td>&quot;(131)I-Macroag…</td></tr><tr><td>&quot;C0000005&quot;</td><td>&quot;(131)I-MAA&quot;</td></tr><tr><td>&quot;C0000039&quot;</td><td>&quot;1,2-dipalmitoy…</td></tr><tr><td>&quot;C0000039&quot;</td><td>&quot;1,2-dipalmitoy…</td></tr><tr><td>&quot;C0000039&quot;</td><td>&quot;1,2-Dipalmitoy…</td></tr></tbody></table></div>"
      ],
      "text/plain": [
       "shape: (5, 2)\n",
       "┌──────────┬───────────────────────────────────┐\n",
       "│ CUI      ┆ STR                               │\n",
       "│ ---      ┆ ---                               │\n",
       "│ str      ┆ str                               │\n",
       "╞══════════╪═══════════════════════════════════╡\n",
       "│ C0000005 ┆ (131)I-Macroaggregated Albumin    │\n",
       "│ C0000005 ┆ (131)I-MAA                        │\n",
       "│ C0000039 ┆ 1,2-dipalmitoylphosphatidylcholi… │\n",
       "│ C0000039 ┆ 1,2-dipalmitoylphosphatidylcholi… │\n",
       "│ C0000039 ┆ 1,2-Dipalmitoylphosphatidylcholi… │\n",
       "└──────────┴───────────────────────────────────┘"
      ]
     },
     "execution_count": 6,
     "metadata": {},
     "output_type": "execute_result"
    }
   ],
   "source": [
    "cuisyn_df = (mrconso_df\n",
    "             .filter((mrconso_df[\"LAT\"] == \"ENG\") & \n",
    "                     (mrconso_df[\"SUPPRESS\"] == \"N\"))\n",
    "             .select([\"CUI\", \"STR\"]))\n",
    "cuisyn_df.head()"
   ]
  },
  {
   "cell_type": "code",
   "execution_count": 7,
   "metadata": {},
   "outputs": [
    {
     "data": {
      "text/plain": [
       "8603906"
      ]
     },
     "execution_count": 7,
     "metadata": {},
     "output_type": "execute_result"
    }
   ],
   "source": [
    "len(cuisyn_df)"
   ]
  },
  {
   "cell_type": "markdown",
   "metadata": {},
   "source": [
    "### How many unique CUIs?"
   ]
  },
  {
   "cell_type": "code",
   "execution_count": 8,
   "metadata": {},
   "outputs": [
    {
     "data": {
      "text/plain": [
       "3185657"
      ]
     },
     "execution_count": 8,
     "metadata": {},
     "output_type": "execute_result"
    }
   ],
   "source": [
    "unique_cuis = cuisyn_df.select([\"CUI\"]).unique()\n",
    "len(unique_cuis)"
   ]
  },
  {
   "cell_type": "markdown",
   "metadata": {},
   "source": [
    "### Synonym Normalization and Cleanup"
   ]
  },
  {
   "cell_type": "code",
   "execution_count": 9,
   "metadata": {},
   "outputs": [
    {
     "data": {
      "text/html": [
       "<div><style>\n",
       ".dataframe > thead > tr > th,\n",
       ".dataframe > tbody > tr > td {\n",
       "  text-align: right;\n",
       "  white-space: pre-wrap;\n",
       "}\n",
       "</style>\n",
       "<small>shape: (5, 2)</small><table border=\"1\" class=\"dataframe\"><thead><tr><th>CUI</th><th>STR</th></tr><tr><td>str</td><td>str</td></tr></thead><tbody><tr><td>&quot;C1572367&quot;</td><td>&quot;mycophenolate …</td></tr><tr><td>&quot;C0070331&quot;</td><td>&quot;pepstatyl gly …</td></tr><tr><td>&quot;C1525260&quot;</td><td>&quot;xr tib fib vie…</td></tr><tr><td>&quot;C2042286&quot;</td><td>&quot;magnetic reson…</td></tr><tr><td>&quot;C2027346&quot;</td><td>&quot;mri cervical o…</td></tr></tbody></table></div>"
      ],
      "text/plain": [
       "shape: (5, 2)\n",
       "┌──────────┬───────────────────────────────────┐\n",
       "│ CUI      ┆ STR                               │\n",
       "│ ---      ┆ ---                               │\n",
       "│ str      ┆ str                               │\n",
       "╞══════════╪═══════════════════════════════════╡\n",
       "│ C1572367 ┆ mycophenolate sodium 360 mg oral… │\n",
       "│ C0070331 ┆ pepstatyl gly lys lys             │\n",
       "│ C1525260 ┆ xr tib fib views obl              │\n",
       "│ C2042286 ┆ magnetic resonance imaging of ce… │\n",
       "│ C2027346 ┆ mri cervical osseous mass associ… │\n",
       "└──────────┴───────────────────────────────────┘"
      ]
     },
     "execution_count": 9,
     "metadata": {},
     "output_type": "execute_result"
    }
   ],
   "source": [
    "def lowercase(syn):\n",
    "    syn = syn.lower()\n",
    "    syn = re.sub(r'[^\\w\\s]', ' ', syn)\n",
    "    syn = re.sub(r'\\s+', ' ', syn)\n",
    "    return syn\n",
    "\n",
    "\n",
    "cuisyn_lc_df = (cuisyn_df\n",
    "                .with_columns(pl.col(\"STR\").map_elements(lowercase))\n",
    "                .unique(subset=[\"STR\"]))\n",
    "cuisyn_lc_df.head()"
   ]
  },
  {
   "cell_type": "markdown",
   "metadata": {},
   "source": [
    "### Distribution of number of synonyms per CUI"
   ]
  },
  {
   "cell_type": "code",
   "execution_count": 10,
   "metadata": {},
   "outputs": [
    {
     "data": {
      "text/html": [
       "<div><style>\n",
       ".dataframe > thead > tr > th,\n",
       ".dataframe > tbody > tr > td {\n",
       "  text-align: right;\n",
       "  white-space: pre-wrap;\n",
       "}\n",
       "</style>\n",
       "<small>shape: (5, 2)</small><table border=\"1\" class=\"dataframe\"><thead><tr><th>CUI</th><th>num_syns</th></tr><tr><td>str</td><td>u32</td></tr></thead><tbody><tr><td>&quot;C1612374&quot;</td><td>671</td></tr><tr><td>&quot;C1613478&quot;</td><td>473</td></tr><tr><td>&quot;C0973749&quot;</td><td>305</td></tr><tr><td>&quot;C1815705&quot;</td><td>291</td></tr><tr><td>&quot;C2945898&quot;</td><td>286</td></tr></tbody></table></div>"
      ],
      "text/plain": [
       "shape: (5, 2)\n",
       "┌──────────┬──────────┐\n",
       "│ CUI      ┆ num_syns │\n",
       "│ ---      ┆ ---      │\n",
       "│ str      ┆ u32      │\n",
       "╞══════════╪══════════╡\n",
       "│ C1612374 ┆ 671      │\n",
       "│ C1613478 ┆ 473      │\n",
       "│ C0973749 ┆ 305      │\n",
       "│ C1815705 ┆ 291      │\n",
       "│ C2945898 ┆ 286      │\n",
       "└──────────┴──────────┘"
      ]
     },
     "execution_count": 10,
     "metadata": {},
     "output_type": "execute_result"
    }
   ],
   "source": [
    "syns_by_cui_df = (cuisyn_lc_df\n",
    "                  .group_by(\"CUI\")\n",
    "                  .agg(pl.count(\"STR\").alias(\"num_syns\"))\n",
    "                  .sort(\"num_syns\", descending=True)\n",
    "                  )\n",
    "syns_by_cui_df.head()"
   ]
  },
  {
   "cell_type": "code",
   "execution_count": 11,
   "metadata": {},
   "outputs": [
    {
     "data": {
      "text/html": [
       "<div><style>\n",
       ".dataframe > thead > tr > th,\n",
       ".dataframe > tbody > tr > td {\n",
       "  text-align: right;\n",
       "  white-space: pre-wrap;\n",
       "}\n",
       "</style>\n",
       "<small>shape: (5, 2)</small><table border=\"1\" class=\"dataframe\"><thead><tr><th>CUI</th><th>STR</th></tr><tr><td>str</td><td>str</td></tr></thead><tbody><tr><td>&quot;C1612374&quot;</td><td>&quot;alcohol 0 7 ml in 1 ml topical gel basic care &quot;</td></tr><tr><td>&quot;C1612374&quot;</td><td>&quot;alcohol 41 40297 ml in 59 15 ml cutaneous gel prima fleur hand sanitizer &quot;</td></tr><tr><td>&quot;C1612374&quot;</td><td>&quot;alcohol 0 7 g in 1 ml topical gel antimicrobial hand sanitizer &quot;</td></tr><tr><td>&quot;C1612374&quot;</td><td>&quot;alcohol 0 7 ml in 1 ml topical gel margaritaville apple &quot;</td></tr><tr><td>&quot;C1612374&quot;</td><td>&quot;alcohol 0 7 l in 1 l topical gel sanit hand sanitizer &quot;</td></tr></tbody></table></div>"
      ],
      "text/plain": [
       "shape: (5, 2)\n",
       "┌──────────┬───────────────────────────────────────────────────────────────────────────┐\n",
       "│ CUI      ┆ STR                                                                       │\n",
       "│ ---      ┆ ---                                                                       │\n",
       "│ str      ┆ str                                                                       │\n",
       "╞══════════╪═══════════════════════════════════════════════════════════════════════════╡\n",
       "│ C1612374 ┆ alcohol 0 7 ml in 1 ml topical gel basic care                             │\n",
       "│ C1612374 ┆ alcohol 41 40297 ml in 59 15 ml cutaneous gel prima fleur hand sanitizer  │\n",
       "│ C1612374 ┆ alcohol 0 7 g in 1 ml topical gel antimicrobial hand sanitizer            │\n",
       "│ C1612374 ┆ alcohol 0 7 ml in 1 ml topical gel margaritaville apple                   │\n",
       "│ C1612374 ┆ alcohol 0 7 l in 1 l topical gel sanit hand sanitizer                     │\n",
       "└──────────┴───────────────────────────────────────────────────────────────────────────┘"
      ]
     },
     "execution_count": 11,
     "metadata": {},
     "output_type": "execute_result"
    }
   ],
   "source": [
    "pl.Config.set_fmt_str_lengths(120)\n",
    "cuisyn_lc_df.filter(cuisyn_lc_df[\"CUI\"] == \"C1612374\").head()"
   ]
  },
  {
   "cell_type": "code",
   "execution_count": 12,
   "metadata": {},
   "outputs": [
    {
     "data": {
      "image/png": "[encoded data removed]",
      "text/plain": [
       "<Figure size 640x480 with 1 Axes>"
      ]
     },
     "metadata": {},
     "output_type": "display_data"
    }
   ],
   "source": [
    "num_syns = syns_by_cui_df[\"num_syns\"].to_list()\n",
    "plt.yscale(\"log\")\n",
    "plt.ylabel(\"#-ents (log scale)\")\n",
    "plt.xlabel(\"#-syns\")\n",
    "_ = plt.hist(num_syns)"
   ]
  },
  {
   "cell_type": "markdown",
   "metadata": {},
   "source": [
    "### Random Sampling\n",
    "\n",
    "For Hard Negative Mining, we will need to vectorize the synonyms. Since vectorization is expensive and we don't need all 8M syns vectorized, we will sample pairs from non-rare entities."
   ]
  },
  {
   "cell_type": "code",
   "execution_count": 13,
   "metadata": {},
   "outputs": [
    {
     "data": {
      "text/html": [
       "<div><style>\n",
       ".dataframe > thead > tr > th,\n",
       ".dataframe > tbody > tr > td {\n",
       "  text-align: right;\n",
       "  white-space: pre-wrap;\n",
       "}\n",
       "</style>\n",
       "<small>shape: (5, 1)</small><table border=\"1\" class=\"dataframe\"><thead><tr><th>CUI</th></tr><tr><td>str</td></tr></thead><tbody><tr><td>&quot;C0691017&quot;</td></tr><tr><td>&quot;C4048541&quot;</td></tr><tr><td>&quot;C0232950&quot;</td></tr><tr><td>&quot;C2179347&quot;</td></tr><tr><td>&quot;C4301888&quot;</td></tr></tbody></table></div>"
      ],
      "text/plain": [
       "shape: (5, 1)\n",
       "┌──────────┐\n",
       "│ CUI      │\n",
       "│ ---      │\n",
       "│ str      │\n",
       "╞══════════╡\n",
       "│ C0691017 │\n",
       "│ C4048541 │\n",
       "│ C0232950 │\n",
       "│ C2179347 │\n",
       "│ C4301888 │\n",
       "└──────────┘"
      ]
     },
     "execution_count": 13,
     "metadata": {},
     "output_type": "execute_result"
    }
   ],
   "source": [
    "cui_sample_df = (syns_by_cui_df\n",
    "                 .filter(syns_by_cui_df[\"num_syns\"] > 5)\n",
    "                 .select([\"CUI\"])\n",
    "                 .sample(n=5000, \n",
    "                         with_replacement=False,\n",
    "                         seed=42))\n",
    "cui_sample_df.head()"
   ]
  },
  {
   "cell_type": "code",
   "execution_count": 14,
   "metadata": {},
   "outputs": [
    {
     "data": {
      "text/plain": [
       "5000"
      ]
     },
     "execution_count": 14,
     "metadata": {},
     "output_type": "execute_result"
    }
   ],
   "source": [
    "len(cui_sample_df)"
   ]
  },
  {
   "cell_type": "code",
   "execution_count": 15,
   "metadata": {},
   "outputs": [
    {
     "data": {
      "text/plain": [
       "5000"
      ]
     },
     "execution_count": 15,
     "metadata": {},
     "output_type": "execute_result"
    }
   ],
   "source": [
    "len(cui_sample_df.unique())"
   ]
  },
  {
   "cell_type": "markdown",
   "metadata": {},
   "source": [
    "### Join with normalized syns dataframe\n",
    "\n",
    "This creates a reduced dataframe with only STR from our sampled CUIs."
   ]
  },
  {
   "cell_type": "code",
   "execution_count": 16,
   "metadata": {},
   "outputs": [
    {
     "data": {
      "text/plain": [
       "46656"
      ]
     },
     "execution_count": 16,
     "metadata": {},
     "output_type": "execute_result"
    }
   ],
   "source": [
    "cui_syn_sample_df = cuisyn_lc_df.join(cui_sample_df, on=\"CUI\")\n",
    "len(cui_syn_sample_df)"
   ]
  },
  {
   "cell_type": "markdown",
   "metadata": {},
   "source": [
    "### Self-join on CUI to find positive (Anchor-Positive) pairs"
   ]
  },
  {
   "cell_type": "code",
   "execution_count": 18,
   "metadata": {},
   "outputs": [
    {
     "data": {
      "text/html": [
       "<div><style>\n",
       ".dataframe > thead > tr > th,\n",
       ".dataframe > tbody > tr > td {\n",
       "  text-align: right;\n",
       "  white-space: pre-wrap;\n",
       "}\n",
       "</style>\n",
       "<small>shape: (5, 3)</small><table border=\"1\" class=\"dataframe\"><thead><tr><th>CUI</th><th>STR_A</th><th>STR_P</th></tr><tr><td>str</td><td>str</td><td>str</td></tr></thead><tbody><tr><td>&quot;C0041218&quot;</td><td>&quot;trypanosoma trypanozoon brucei gambiense&quot;</td><td>&quot;gambienses trypanosoma&quot;</td></tr><tr><td>&quot;C0041218&quot;</td><td>&quot;trypanosoma gambiense&quot;</td><td>&quot;gambienses trypanosoma&quot;</td></tr><tr><td>&quot;C0041218&quot;</td><td>&quot;trypanosoma brucei gambienses&quot;</td><td>&quot;gambienses trypanosoma&quot;</td></tr><tr><td>&quot;C0041218&quot;</td><td>&quot;trypanosoma hominis&quot;</td><td>&quot;gambienses trypanosoma&quot;</td></tr><tr><td>&quot;C0041218&quot;</td><td>&quot;trypanosoma ugandense&quot;</td><td>&quot;gambienses trypanosoma&quot;</td></tr></tbody></table></div>"
      ],
      "text/plain": [
       "shape: (5, 3)\n",
       "┌──────────┬──────────────────────────────────────────┬────────────────────────┐\n",
       "│ CUI      ┆ STR_A                                    ┆ STR_P                  │\n",
       "│ ---      ┆ ---                                      ┆ ---                    │\n",
       "│ str      ┆ str                                      ┆ str                    │\n",
       "╞══════════╪══════════════════════════════════════════╪════════════════════════╡\n",
       "│ C0041218 ┆ trypanosoma trypanozoon brucei gambiense ┆ gambienses trypanosoma │\n",
       "│ C0041218 ┆ trypanosoma gambiense                    ┆ gambienses trypanosoma │\n",
       "│ C0041218 ┆ trypanosoma brucei gambienses            ┆ gambienses trypanosoma │\n",
       "│ C0041218 ┆ trypanosoma hominis                      ┆ gambienses trypanosoma │\n",
       "│ C0041218 ┆ trypanosoma ugandense                    ┆ gambienses trypanosoma │\n",
       "└──────────┴──────────────────────────────────────────┴────────────────────────┘"
      ]
     },
     "execution_count": 18,
     "metadata": {},
     "output_type": "execute_result"
    }
   ],
   "source": [
    "cui_syn_pairs_df = (cui_syn_sample_df\n",
    "                    .join(cui_syn_sample_df, on=\"CUI\")\n",
    "                    .rename({\"STR\": \"STR_A\", \"STR_right\": \"STR_P\"})\n",
    "                    )\n",
    "cui_syn_pairs_df = cui_syn_pairs_df.filter(\n",
    "    cui_syn_pairs_df[\"STR_A\"] != cui_syn_pairs_df[\"STR_P\"])\n",
    "\n",
    "cui_syn_pairs_df.head()"
   ]
  },
  {
   "cell_type": "code",
   "execution_count": 19,
   "metadata": {},
   "outputs": [
    {
     "data": {
      "text/plain": [
       "628838"
      ]
     },
     "execution_count": 19,
     "metadata": {},
     "output_type": "execute_result"
    }
   ],
   "source": [
    "len(cui_syn_pairs_df)"
   ]
  },
  {
   "cell_type": "markdown",
   "metadata": {},
   "source": [
    "### Randomly sample 3-5 pairs for each CUI"
   ]
  },
  {
   "cell_type": "code",
   "execution_count": 20,
   "metadata": {},
   "outputs": [
    {
     "data": {
      "text/html": [
       "<div><style>\n",
       ".dataframe > thead > tr > th,\n",
       ".dataframe > tbody > tr > td {\n",
       "  text-align: right;\n",
       "  white-space: pre-wrap;\n",
       "}\n",
       "</style>\n",
       "<small>shape: (5, 3)</small><table border=\"1\" class=\"dataframe\"><thead><tr><th>CUI</th><th>STR_A</th><th>STR_P</th></tr><tr><td>str</td><td>str</td><td>str</td></tr></thead><tbody><tr><td>&quot;C0691017&quot;</td><td>&quot;lidocaine hcl 4mg ml dextrose 5 inj&quot;</td><td>&quot;lidocaine hydrochloride injectable 5 0 4 injectable solution&quot;</td></tr><tr><td>&quot;C0691017&quot;</td><td>&quot;lignocaine hydrochloride glucose 0 4 5 polyfusor&quot;</td><td>&quot;lignocaine hydrochloride glucose 0 4 5 infusion&quot;</td></tr><tr><td>&quot;C0691017&quot;</td><td>&quot;lidocaine hydrochloride 4 mg ml injection&quot;</td><td>&quot;lidocaine hcl 4mg ml dextrose 5 inj&quot;</td></tr><tr><td>&quot;C4048541&quot;</td><td>&quot;remifentanil hydrochloride 1 mg in 1 ml intravenous injection powder lyophilized for solution ultiva _ 1&quot;</td><td>&quot;ultiva 1mg powder for injection&quot;</td></tr><tr><td>&quot;C4048541&quot;</td><td>&quot;ultiva 1mg powder for injection&quot;</td><td>&quot;remifentanil hydrochloride 1 mg intravenous powder for solution ultiva novaplus &quot;</td></tr></tbody></table></div>"
      ],
      "text/plain": [
       "shape: (5, 3)\n",
       "┌──────────┬───────────────────────────────────────────┬───────────────────────────────────────────┐\n",
       "│ CUI      ┆ STR_A                                     ┆ STR_P                                     │\n",
       "│ ---      ┆ ---                                       ┆ ---                                       │\n",
       "│ str      ┆ str                                       ┆ str                                       │\n",
       "╞══════════╪═══════════════════════════════════════════╪═══════════════════════════════════════════╡\n",
       "│ C0691017 ┆ lidocaine hcl 4mg ml dextrose 5 inj       ┆ lidocaine hydrochloride injectable 5 0 4  │\n",
       "│          ┆                                           ┆ injectable solution                       │\n",
       "│ C0691017 ┆ lignocaine hydrochloride glucose 0 4 5    ┆ lignocaine hydrochloride glucose 0 4 5    │\n",
       "│          ┆ polyfusor                                 ┆ infusion                                  │\n",
       "│ C0691017 ┆ lidocaine hydrochloride 4 mg ml injection ┆ lidocaine hcl 4mg ml dextrose 5 inj       │\n",
       "│ C4048541 ┆ remifentanil hydrochloride 1 mg in 1 ml   ┆ ultiva 1mg powder for injection           │\n",
       "│          ┆ intravenous injection powder lyophilized  ┆                                           │\n",
       "│          ┆ for solution ultiva _ 1                   ┆                                           │\n",
       "│ C4048541 ┆ ultiva 1mg powder for injection           ┆ remifentanil hydrochloride 1 mg           │\n",
       "│          ┆                                           ┆ intravenous powder for solution ultiva    │\n",
       "│          ┆                                           ┆ novaplus                                  │\n",
       "└──────────┴───────────────────────────────────────────┴───────────────────────────────────────────┘"
      ]
     },
     "execution_count": 20,
     "metadata": {},
     "output_type": "execute_result"
    }
   ],
   "source": [
    "final_pairs_df = pl.DataFrame({}, schema=cui_syn_pairs_df.schema)\n",
    "for row in cui_sample_df.iter_rows():\n",
    "    cui = row[0]\n",
    "    num_to_sample = np.random.randint(3, 6)\n",
    "    sample_df = (cui_syn_pairs_df\n",
    "                 .filter(cui_syn_pairs_df[\"CUI\"] == cui)\n",
    "                 .sample(n=num_to_sample,\n",
    "                         with_replacement=False,\n",
    "                         seed=42)\n",
    "                )\n",
    "    final_pairs_df.extend(sample_df)\n",
    "\n",
    "final_pairs_df.head()"
   ]
  },
  {
   "cell_type": "code",
   "execution_count": 21,
   "metadata": {},
   "outputs": [
    {
     "data": {
      "text/plain": [
       "19952"
      ]
     },
     "execution_count": 21,
     "metadata": {},
     "output_type": "execute_result"
    }
   ],
   "source": [
    "len(final_pairs_df)"
   ]
  },
  {
   "cell_type": "code",
   "execution_count": 22,
   "metadata": {},
   "outputs": [
    {
     "data": {
      "text/plain": [
       "5000"
      ]
     },
     "execution_count": 22,
     "metadata": {},
     "output_type": "execute_result"
    }
   ],
   "source": [
    "len(final_pairs_df.select([\"CUI\"]).unique())"
   ]
  },
  {
   "cell_type": "markdown",
   "metadata": {},
   "source": [
    "### Write out to a TSV file"
   ]
  },
  {
   "cell_type": "code",
   "execution_count": 23,
   "metadata": {},
   "outputs": [],
   "source": [
    "final_pairs_df.write_csv(OUTPUT_FILE, separator='\\t')"
   ]
  }
 ],
 "metadata": {
  "kernelspec": {
   "display_name": "kgnel",
   "language": "python",
   "name": "python3"
  },
  "language_info": {
   "codemirror_mode": {
    "name": "ipython",
    "version": 3
   },
   "file_extension": ".py",
   "mimetype": "text/x-python",
   "name": "python",
   "nbconvert_exporter": "python",
   "pygments_lexer": "ipython3",
   "version": "3.11.4"
  }
 },
 "nbformat": 4,
 "nbformat_minor": 2
}
